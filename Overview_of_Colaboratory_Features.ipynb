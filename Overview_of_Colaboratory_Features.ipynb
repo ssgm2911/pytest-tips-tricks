{
  "cells": [
    {
      "cell_type": "markdown",
      "metadata": {
        "colab_type": "text",
        "id": "view-in-github"
      },
      "source": [
        "<a href=\"https://colab.research.google.com/github/ssgm2911/pytest-tips-tricks/blob/main/Overview_of_Colaboratory_Features.ipynb\" target=\"_parent\"><img src=\"https://colab.research.google.com/assets/colab-badge.svg\" alt=\"Open In Colab\"/></a>"
      ]
    },
    {
      "cell_type": "markdown",
      "metadata": {
        "id": "JyG45Qk3qQLS"
      },
      "source": [
        "# Cells\n",
        "A notebook is a list of cells. Cells contain either explanatory text or executable code and its output. Click a cell to select it."
      ]
    },
    {
      "cell_type": "markdown",
      "metadata": {
        "id": "KR921S_OQSHG"
      },
      "source": [
        "## Code cells\n",
        "Below is a **code cell**. Once the toolbar button indicates CONNECTED, click in the cell to select it and execute the contents in the following ways:\n",
        "\n",
        "* Click the **Play icon** in the left gutter of the cell;\n",
        "* Type **Cmd/Ctrl+Enter** to run the cell in place;\n",
        "* Type **Shift+Enter** to run the cell and move focus to the next cell (adding one if none exists); or\n",
        "* Type **Alt+Enter** to run the cell and insert a new code cell immediately below it.\n",
        "\n",
        "There are additional options for running some or all cells in the **Runtime** menu.\n"
      ]
    },
    {
      "cell_type": "code",
      "execution_count": 1,
      "metadata": {
        "cellView": "both",
        "colab": {
          "height": 35
        },
        "id": "WUtu4316QSHL",
        "outputId": "67bdf0c3-d76f-4226-fc34-a2f2d0eba60b"
      },
      "outputs": [
        {
          "data": {
            "text/plain": [
              "10"
            ]
          },
          "execution_count": 1,
          "metadata": {},
          "output_type": "execute_result"
        }
      ],
      "source": [
        "a = 10\n",
        "a"
      ]
    },
    {
      "cell_type": "markdown",
      "metadata": {
        "id": "Id6tDF1HQSHD"
      },
      "source": [
        "## Text cells\n",
        "This is a **text cell**. You can **double-click** to edit this cell. Text cells\n",
        "use markdown syntax. To learn more, see our [markdown\n",
        "guide](/notebooks/markdown_guide.ipynb).\n",
        "\n",
        "You can also add math to text cells using [LaTeX](http://www.latex-project.org/)\n",
        "to be rendered by [MathJax](https://www.mathjax.org). Just place the statement\n",
        "within a pair of **\\$** signs. For example `$\\sqrt{3x-1}+(1+x)^2$` becomes\n",
        "$\\sqrt{3x-1}+(1+x)^2.$\n"
      ]
    },
    {
      "cell_type": "markdown",
      "metadata": {
        "id": "7bqjkGKwQSHW"
      },
      "source": [
        "## Adding and moving cells\n",
        "You can add new cells by using the **+ CODE** and **+ TEXT** buttons that show when you hover between cells. These buttons are also in the toolbar above the notebook where they can be used to add a cell below the currently selected cell.\n",
        "\n",
        "You can move a cell by selecting it and clicking **Cell Up** or **Cell Down** in the top toolbar.\n",
        "\n",
        "Consecutive cells can be selected by \"lasso selection\" by dragging from outside one cell and through the group.  Non-adjacent cells can be selected concurrently by clicking one and then holding down Ctrl while clicking another.  Similarly, using Shift instead of Ctrl will select all intermediate cells."
      ]
    },
    {
      "cell_type": "markdown",
      "metadata": {
        "id": "GOwlZRXEQSHZ"
      },
      "source": [
        "# Working with python\n",
        "Colaboratory is built on top of [Jupyter Notebook](https://jupyter.org/). Below are some examples of convenience functions provided."
      ]
    },
    {
      "cell_type": "markdown",
      "metadata": {
        "id": "RVuqWUXPQSHa"
      },
      "source": [
        "Long running python processes can be interrupted. Run the following cell and select **Runtime -> Interrupt execution** (*hotkey: Cmd/Ctrl-M I*) to stop execution."
      ]
    },
    {
      "cell_type": "code",
      "execution_count": 2,
      "metadata": {
        "cellView": "both",
        "colab": {
          "height": 244
        },
        "id": "d-S-3nYLQSHb",
        "outputId": "38d534fc-8b61-4f9f-d731-74b23aadb5bc"
      },
      "outputs": [
        {
          "name": "stdout",
          "output_type": "stream",
          "text": [
            "Sleeping\n"
          ]
        },
        {
          "ename": "KeyboardInterrupt",
          "evalue": "",
          "output_type": "error",
          "traceback": [
            "\u001b[0;31m---------------------------------------------------------------------------\u001b[0m",
            "\u001b[0;31mKeyboardInterrupt\u001b[0m                         Traceback (most recent call last)",
            "Cell \u001b[0;32mIn[2], line 3\u001b[0m\n\u001b[1;32m      1\u001b[0m \u001b[38;5;28;01mimport\u001b[39;00m \u001b[38;5;21;01mtime\u001b[39;00m\n\u001b[1;32m      2\u001b[0m \u001b[38;5;28mprint\u001b[39m(\u001b[38;5;124m\"\u001b[39m\u001b[38;5;124mSleeping\u001b[39m\u001b[38;5;124m\"\u001b[39m)\n\u001b[0;32m----> 3\u001b[0m \u001b[43mtime\u001b[49m\u001b[38;5;241;43m.\u001b[39;49m\u001b[43msleep\u001b[49m\u001b[43m(\u001b[49m\u001b[38;5;241;43m30\u001b[39;49m\u001b[43m)\u001b[49m \u001b[38;5;66;03m# sleep for a while; interrupt me!\u001b[39;00m\n\u001b[1;32m      4\u001b[0m \u001b[38;5;28mprint\u001b[39m(\u001b[38;5;124m\"\u001b[39m\u001b[38;5;124mDone Sleeping\u001b[39m\u001b[38;5;124m\"\u001b[39m)\n",
            "\u001b[0;31mKeyboardInterrupt\u001b[0m: "
          ]
        }
      ],
      "source": [
        "import time\n",
        "print(\"Sleeping\")\n",
        "time.sleep(30) # sleep for a while; interrupt me!\n",
        "print(\"Done Sleeping\")"
      ]
    },
    {
      "cell_type": "markdown",
      "metadata": {
        "id": "Wej_mEyXQSHc"
      },
      "source": [
        "## System aliases\n",
        "\n",
        "Jupyter includes shortcuts for common operations, such as ls:"
      ]
    },
    {
      "cell_type": "code",
      "execution_count": 3,
      "metadata": {
        "cellView": "both",
        "colab": {
          "height": 323
        },
        "id": "5OCYEvK5QSHf",
        "outputId": "2ee8ae66-72ed-425c-e20b-bc5ac307ef3e"
      },
      "outputs": [
        {
          "name": "stdout",
          "output_type": "stream",
          "text": [
            " FileCheck-10\t\t\t      llvm-strings-10\n",
            " X11\t\t\t\t      llvm-strip\n",
            "'['\t\t\t\t      llvm-strip-10\n",
            " aclocal\t\t\t      llvm-symbolizer\n",
            " aclocal-1.16\t\t\t      llvm-symbolizer-10\n",
            " add-apt-repository\t\t      llvm-tblgen\n",
            " addpart\t\t\t      llvm-tblgen-10\n",
            " addr2line\t\t\t      llvm-undname\n",
            " apropos\t\t\t      llvm-undname-10\n",
            " apt\t\t\t\t      llvm-xray\n",
            " apt-add-repository\t\t      llvm-xray-10\n",
            " apt-cache\t\t\t      ln\n",
            " apt-cdrom\t\t\t      lnstat\n",
            " apt-config\t\t\t      locale\n",
            " apt-extracttemplates\t\t      locale-check\n",
            " apt-ftparchive\t\t\t      localectl\n",
            " apt-get\t\t\t      localedef\n",
            " apt-key\t\t\t      logger\n",
            " apt-mark\t\t\t      login\n",
            " apt-sortpkgs\t\t\t      loginctl\n",
            " ar\t\t\t\t      logname\n",
            " arch\t\t\t\t      look\n",
            " as\t\t\t\t      lorder\n",
            " asan_symbolize\t\t\t      ls\n",
            " asan_symbolize-10\t\t      lsattr\n",
            " autoconf\t\t\t      lsb_release\n",
            " autoheader\t\t\t      lsblk\n",
            " autom4te\t\t\t      lscpu\n",
            " automake\t\t\t      lsipc\n",
            " automake-1.16\t\t\t      lslocks\n",
            " autoreconf\t\t\t      lslogins\n",
            " autoscan\t\t\t      lsmem\n",
            " autoupdate\t\t\t      lsns\n",
            " awk\t\t\t\t      lsof\n",
            " b2sum\t\t\t\t      lspgpot\n",
            " base32\t\t\t\t      lynx\n",
            " base64\t\t\t\t      lzcat\n",
            " basename\t\t\t      lzcmp\n",
            " bash\t\t\t\t      lzdiff\n",
            " bashbug\t\t\t      lzegrep\n",
            " bc\t\t\t\t      lzfgrep\n",
            " bison\t\t\t\t      lzgrep\n",
            " bison.yacc\t\t\t      lzless\n",
            " bootctl\t\t\t      lzma\n",
            " bsd-from\t\t\t      lzmainfo\n",
            " bsd-write\t\t\t      lzmore\n",
            " bugpoint\t\t\t      m4\n",
            " bugpoint-10\t\t\t      make\n",
            " bunzip2\t\t\t      make-first-existing-target\n",
            " busctl\t\t\t\t      makeconv\n",
            " bzcat\t\t\t\t      man\n",
            " bzcmp\t\t\t\t      man-recode\n",
            " bzdiff\t\t\t\t      mandb\n",
            " bzegrep\t\t\t      manpath\n",
            " bzexe\t\t\t\t      mawk\n",
            " bzfgrep\t\t\t      mcookie\n",
            " bzgrep\t\t\t\t      md5sum\n",
            " bzip2\t\t\t\t      md5sum.textutils\n",
            " bzip2recover\t\t\t      mesg\n",
            " bzless\t\t\t\t      migrate-pubring-from-classic-gpg\n",
            " bzmore\t\t\t\t      mispipe\n",
            " c++\t\t\t\t      mkdir\n",
            " c++filt\t\t\t      mkfifo\n",
            " c89\t\t\t\t      mknod\n",
            " c89-gcc\t\t\t      mktemp\n",
            " c99\t\t\t\t      more\n",
            " c99-gcc\t\t\t      mount\n",
            " c_rehash\t\t\t      mountpoint\n",
            " cal\t\t\t\t      mpicalc\n",
            " calendar\t\t\t      ms_print\n",
            " callgrind_annotate\t\t      msgattrib\n",
            " callgrind_control\t\t      msgcat\n",
            " captoinfo\t\t\t      msgcmp\n",
            " cat\t\t\t\t      msgcomm\n",
            " catchsegv\t\t\t      msgconv\n",
            " catman\t\t\t\t      msgen\n",
            " cautious-launcher\t\t      msgexec\n",
            " cc\t\t\t\t      msgfilter\n",
            " ccache-swig3.0\t\t\t      msgfmt\n",
            " cg_annotate\t\t\t      msggrep\n",
            " cg_diff\t\t\t      msginit\n",
            " cg_merge\t\t\t      msgmerge\n",
            " chage\t\t\t\t      msgunfmt\n",
            " chardet3\t\t\t      msguniq\n",
            " chardetect3\t\t\t      mtrace\n",
            " chattr\t\t\t\t      mv\n",
            " chcon\t\t\t\t      mysql_config\n",
            " chfn\t\t\t\t      namei\n",
            " chgrp\t\t\t\t      nano\n",
            " chmod\t\t\t\t      nawk\n",
            " choom\t\t\t\t      ncal\n",
            " chown\t\t\t\t      ncdu\n",
            " chronic\t\t\t      ncurses5-config\n",
            " chrt\t\t\t\t      ncurses6-config\n",
            " chsh\t\t\t\t      ncursesw5-config\n",
            " cksum\t\t\t\t      ncursesw6-config\n",
            " clang\t\t\t\t      neqn\n",
            " clang++\t\t\t      netstat\n",
            " clang++-10\t\t\t      networkctl\n",
            " clang-10\t\t\t      newgrp\n",
            " clang-cpp-10\t\t\t      ngettext\n",
            " clear\t\t\t\t      nice\n",
            " clear_console\t\t\t      nisdomainname\n",
            " cmake\t\t\t\t      nl\n",
            " cmp\t\t\t\t      nm\n",
            " col\t\t\t\t      nohup\n",
            " colcrt\t\t\t\t      not-10\n",
            " colrm\t\t\t\t      nproc\n",
            " column\t\t\t\t      nroff\n",
            " combine\t\t\t      nsenter\n",
            " comm\t\t\t\t      nspr-config\n",
            " compose\t\t\t      nss-config\n",
            " containerd\t\t\t      nstat\n",
            " containerd-shim\t\t      numfmt\n",
            " containerd-shim-runc-v1\t      obj2yaml\n",
            " containerd-shim-runc-v2\t      obj2yaml-10\n",
            " containerd-stress\t\t      objcopy\n",
            " corelist\t\t\t      objdump\n",
            " count-10\t\t\t      od\n",
            " cp\t\t\t\t      odbcinst\n",
            " cpack\t\t\t\t      openssl\n",
            " cpan\t\t\t\t      opt\n",
            " cpan5.30-x86_64-linux-gnu\t      opt-10\n",
            " cpp\t\t\t\t      pager\n",
            " cpp-9\t\t\t\t      parallel\n",
            " cppcheck\t\t\t      partx\n",
            " cppcheck-htmlreport\t\t      passwd\n",
            " csplit\t\t\t\t      paste\n",
            " ctest\t\t\t\t      patch\n",
            " ctr\t\t\t\t      pathchk\n",
            " ctstat\t\t\t\t      pcre-config\n",
            " curl\t\t\t\t      pcre2-config\n",
            " curl-config\t\t\t      pdb3\n",
            " cut\t\t\t\t      pdb3.8\n",
            " cvtsudoers\t\t\t      pee\n",
            " dash\t\t\t\t      peekfd\n",
            " date\t\t\t\t      perl\n",
            " dbus-cleanup-sockets\t\t      perl5.30-x86_64-linux-gnu\n",
            " dbus-daemon\t\t\t      perl5.30.0\n",
            " dbus-monitor\t\t\t      perlbug\n",
            " dbus-run-session\t\t      perldoc\n",
            " dbus-send\t\t\t      perlivp\n",
            " dbus-update-activation-environment   perlthanks\n",
            " dbus-uuidgen\t\t\t      pg_config\n",
            " dd\t\t\t\t      pgrep\n",
            " deb-systemd-helper\t\t      pic\n",
            " deb-systemd-invoke\t\t      pico\n",
            " debconf\t\t\t      piconv\n",
            " debconf-apt-progress\t\t      pidof\n",
            " debconf-communicate\t\t      pigz\n",
            " debconf-copydb\t\t\t      pinentry\n",
            " debconf-escape\t\t\t      pinentry-curses\n",
            " debconf-set-selections\t\t      pinky\n",
            " debconf-show\t\t\t      pip\n",
            " delpart\t\t\t      pip3\n",
            " derb\t\t\t\t      pkaction\n",
            " df\t\t\t\t      pkcheck\n",
            " dh_autotools-dev_restoreconfig       pkexec\n",
            " dh_autotools-dev_updateconfig\t      pkg-config\n",
            " dh_bash-completion\t\t      pkgdata\n",
            " dialog\t\t\t\t      pkill\n",
            " diff\t\t\t\t      pkttyagent\n",
            " diff3\t\t\t\t      pl2pm\n",
            " dir\t\t\t\t      pldd\n",
            " dircolors\t\t\t      pmap\n",
            " dirmngr\t\t\t      pod2html\n",
            " dirmngr-client\t\t\t      pod2man\n",
            " dirname\t\t\t      pod2text\n",
            " dmesg\t\t\t\t      pod2usage\n",
            " dnsdomainname\t\t\t      podchecker\n",
            " docker\t\t\t\t      podselect\n",
            " docker-proxy\t\t\t      pr\n",
            " dockerd\t\t\t      preconv\n",
            " domainname\t\t\t      print\n",
            " dotnet\t\t\t\t      printenv\n",
            " dpkg\t\t\t\t      printerbanner\n",
            " dpkg-architecture\t\t      printf\n",
            " dpkg-buildflags\t\t      prlimit\n",
            " dpkg-buildpackage\t\t      prove\n",
            " dpkg-checkbuilddeps\t\t      prtstat\n",
            " dpkg-deb\t\t\t      ps\n",
            " dpkg-distaddfile\t\t      pslog\n",
            " dpkg-divert\t\t\t      pstree\n",
            " dpkg-genbuildinfo\t\t      pstree.x11\n",
            " dpkg-genchanges\t\t      ptar\n",
            " dpkg-gencontrol\t\t      ptardiff\n",
            " dpkg-gensymbols\t\t      ptargrep\n",
            " dpkg-maintscript-helper\t      ptx\n",
            " dpkg-mergechangelogs\t\t      pwd\n",
            " dpkg-name\t\t\t      pwdx\n",
            " dpkg-parsechangelog\t\t      py3clean\n",
            " dpkg-query\t\t\t      py3compile\n",
            " dpkg-scanpackages\t\t      py3versions\n",
            " dpkg-scansources\t\t      pydoc3\n",
            " dpkg-shlibdeps\t\t\t      pydoc3.8\n",
            " dpkg-source\t\t\t      pygettext3\n",
            " dpkg-split\t\t\t      pygettext3.8\n",
            " dpkg-statoverride\t\t      pygmentize\n",
            " dpkg-trigger\t\t\t      python3\n",
            " dpkg-vendor\t\t\t      python3-config\n",
            " dsymutil\t\t\t      python3.8\n",
            " dsymutil-10\t\t\t      python3.8-config\n",
            " du\t\t\t\t      ranlib\n",
            " dumpsexp\t\t\t      rbash\n",
            " dwp\t\t\t\t      rcp\n",
            " echo\t\t\t\t      rdma\n",
            " edit\t\t\t\t      re2c\n",
            " editor\t\t\t\t      readelf\n",
            " egrep\t\t\t\t      readlink\n",
            " elfedit\t\t\t      realpath\n",
            " enc2xs\t\t\t\t      recode-sr-latin\n",
            " encguess\t\t\t      rename.ul\n",
            " env\t\t\t\t      renice\n",
            " envsubst\t\t\t      reset\n",
            " eqn\t\t\t\t      resizepart\n",
            " errno\t\t\t\t      resolvectl\n",
            " ex\t\t\t\t      rev\n",
            " expand\t\t\t\t      rgrep\n",
            " expiry\t\t\t\t      rlogin\n",
            " expr\t\t\t\t      rm\n",
            " factor\t\t\t\t      rmdir\n",
            " faillog\t\t\t      rnano\n",
            " fallocate\t\t\t      routef\n",
            " false\t\t\t\t      routel\n",
            " fc-cache\t\t\t      rpcgen\n",
            " fc-cat\t\t\t\t      rrsync\n",
            " fc-conflist\t\t\t      rsh\n",
            " fc-list\t\t\t      rsync\n",
            " fc-match\t\t\t      rtstat\n",
            " fc-pattern\t\t\t      run-mailcap\n",
            " fc-query\t\t\t      run-parts\n",
            " fc-scan\t\t\t      runc\n",
            " fc-validate\t\t\t      runcon\n",
            " fgrep\t\t\t\t      rview\n",
            " file\t\t\t\t      rvim\n",
            " fincore\t\t\t      rzsh\n",
            " find\t\t\t\t      sanstats\n",
            " findmnt\t\t\t      sanstats-10\n",
            " fish\t\t\t\t      savelog\n",
            " fish_indent\t\t\t      scp\n",
            " fish_key_reader\t\t      script\n",
            " flock\t\t\t\t      scriptreplay\n",
            " fmt\t\t\t\t      sdiff\n",
            " fold\t\t\t\t      sed\n",
            " free\t\t\t\t      see\n",
            " from\t\t\t\t      select-editor\n",
            " funzip\t\t\t\t      sensible-browser\n",
            " fuser\t\t\t\t      sensible-editor\n",
            " g++\t\t\t\t      sensible-pager\n",
            " g++-9\t\t\t\t      seq\n",
            " gapplication\t\t\t      setarch\n",
            " gawk\t\t\t\t      setpriv\n",
            " gcc\t\t\t\t      setsid\n",
            " gcc-9\t\t\t\t      setterm\n",
            " gcc-ar\t\t\t\t      sftp\n",
            " gcc-ar-9\t\t\t      sg\n",
            " gcc-nm\t\t\t\t      sh\n",
            " gcc-nm-9\t\t\t      sha1sum\n",
            " gcc-ranlib\t\t\t      sha224sum\n",
            " gcc-ranlib-9\t\t\t      sha256sum\n",
            " gcore\t\t\t\t      sha384sum\n",
            " gcov\t\t\t\t      sha512sum\n",
            " gcov-9\t\t\t\t      shasum\n",
            " gcov-dump\t\t\t      shred\n",
            " gcov-dump-9\t\t\t      shuf\n",
            " gcov-tool\t\t\t      size\n",
            " gcov-tool-9\t\t\t      skill\n",
            " gdb\t\t\t\t      slabtop\n",
            " gdb-add-index\t\t\t      sleep\n",
            " gdbserver\t\t\t      slogin\n",
            " gdbtui\t\t\t\t      snice\n",
            " gdbus\t\t\t\t      soelim\n",
            " gdbus-codegen\t\t\t      sort\n",
            " genbrk\t\t\t\t      sotruss\n",
            " gencat\t\t\t\t      splain\n",
            " gencfu\t\t\t\t      split\n",
            " gencnval\t\t\t      sponge\n",
            " gendict\t\t\t      sprof\n",
            " genrb\t\t\t\t      sqldiff\n",
            " geqn\t\t\t\t      sqlite3\n",
            " getconf\t\t\t      ss\n",
            " getent\t\t\t\t      ssh\n",
            " getopt\t\t\t\t      ssh-add\n",
            " gettext\t\t\t      ssh-agent\n",
            " gettext.sh\t\t\t      ssh-argv0\n",
            " gettextize\t\t\t      ssh-copy-id\n",
            " gh\t\t\t\t      ssh-keygen\n",
            " gio\t\t\t\t      ssh-keyscan\n",
            " gio-querymodules\t\t      stat\n",
            " git\t\t\t\t      stdbuf\n",
            " git-lfs\t\t\t      strace\n",
            " git-receive-pack\t\t      strace-log-merge\n",
            " git-shell\t\t\t      strings\n",
            " git-upload-archive\t\t      strip\n",
            " git-upload-pack\t\t      stty\n",
            " glib-compile-resources\t\t      su\n",
            " glib-compile-schemas\t\t      sudo\n",
            " glib-genmarshal\t\t      sudoedit\n",
            " glib-gettextize\t\t      sudoreplay\n",
            " glib-mkenums\t\t\t      sum\n",
            " gobject-query\t\t\t      swig3.0\n",
            " gold\t\t\t\t      symcryptrun\n",
            " gpasswd\t\t\t      sync\n",
            " gpg\t\t\t\t      systemctl\n",
            " gpg-agent\t\t\t      systemd\n",
            " gpg-connect-agent\t\t      systemd-analyze\n",
            " gpg-error-config\t\t      systemd-ask-password\n",
            " gpg-wks-server\t\t\t      systemd-cat\n",
            " gpg-zip\t\t\t      systemd-cgls\n",
            " gpg2\t\t\t\t      systemd-cgtop\n",
            " gpgcompose\t\t\t      systemd-delta\n",
            " gpgconf\t\t\t      systemd-detect-virt\n",
            " gpgparsemail\t\t\t      systemd-escape\n",
            " gpgrt-config\t\t\t      systemd-id128\n",
            " gpgsm\t\t\t\t      systemd-inhibit\n",
            " gpgsplit\t\t\t      systemd-machine-id-setup\n",
            " gpgtar\t\t\t\t      systemd-mount\n",
            " gpgv\t\t\t\t      systemd-notify\n",
            " gpic\t\t\t\t      systemd-path\n",
            " gprof\t\t\t\t      systemd-resolve\n",
            " grep\t\t\t\t      systemd-run\n",
            " gresource\t\t\t      systemd-socket-activate\n",
            " groff\t\t\t\t      systemd-stdio-bridge\n",
            " grog\t\t\t\t      systemd-sysusers\n",
            " grops\t\t\t\t      systemd-tmpfiles\n",
            " grotty\t\t\t\t      systemd-tty-ask-password-agent\n",
            " groups\t\t\t\t      systemd-umount\n",
            " gsettings\t\t\t      tabs\n",
            " gtbl\t\t\t\t      tac\n",
            " gtester\t\t\t      tail\n",
            " gtester-report\t\t\t      tar\n",
            " gtk-update-icon-cache\t\t      taskset\n",
            " gunzip\t\t\t\t      tbl\n",
            " gzexe\t\t\t\t      tclsh\n",
            " gzip\t\t\t\t      tclsh8.6\n",
            " h2ph\t\t\t\t      tcltk-depends\n",
            " h2xs\t\t\t\t      tee\n",
            " hd\t\t\t\t      tempfile\n",
            " head\t\t\t\t      test\n",
            " helpztags\t\t\t      tic\n",
            " hexdump\t\t\t      timedatectl\n",
            " hmac256\t\t\t      timeout\n",
            " hostid\t\t\t\t      tload\n",
            " hostname\t\t\t      toe\n",
            " hostnamectl\t\t\t      top\n",
            " htop\t\t\t\t      touch\n",
            " i386\t\t\t\t      tput\n",
            " iconv\t\t\t\t      tr\n",
            " icuinfo\t\t\t      tree\n",
            " id\t\t\t\t      troff\n",
            " ifdata\t\t\t\t      true\n",
            " ifnames\t\t\t      truncate\n",
            " ifne\t\t\t\t      ts\n",
            " infocmp\t\t\t      tset\n",
            " infotocap\t\t\t      tsort\n",
            " inotifywait\t\t\t      tty\n",
            " inotifywatch\t\t\t      tzselect\n",
            " install\t\t\t      ucf\n",
            " instmodsh\t\t\t      ucfq\n",
            " ionice\t\t\t\t      ucfr\n",
            " ip\t\t\t\t      uconv\n",
            " ipcmk\t\t\t\t      ul\n",
            " ipcrm\t\t\t\t      umount\n",
            " ipcs\t\t\t\t      uname\n",
            " iptables-xml\t\t\t      uncompress\n",
            " ischroot\t\t\t      unexpand\n",
            " isutf8\t\t\t\t      uniq\n",
            " join\t\t\t\t      unlink\n",
            " journalctl\t\t\t      unlzma\n",
            " jq\t\t\t\t      unpigz\n",
            " json_pp\t\t\t      unshare\n",
            " kbxutil\t\t\t      unxz\n",
            " kernel-install\t\t\t      unzip\n",
            " kill\t\t\t\t      unzipsfx\n",
            " killall\t\t\t      update-alternatives\n",
            " last\t\t\t\t      update-mime-database\n",
            " lastb\t\t\t\t      uptime\n",
            " lastlog\t\t\t      users\n",
            " lcf\t\t\t\t      utmpdump\n",
            " lckdo\t\t\t\t      valgrind\n",
            " ld\t\t\t\t      valgrind-di-server\n",
            " ld.bfd\t\t\t\t      valgrind-listener\n",
            " ld.gold\t\t\t      valgrind.bin\n",
            " ldd\t\t\t\t      vdir\n",
            " less\t\t\t\t      verify-uselistorder\n",
            " lessecho\t\t\t      verify-uselistorder-10\n",
            " lessfile\t\t\t      vgdb\n",
            " lesskey\t\t\t      vi\n",
            " lesspipe\t\t\t      vidir\n",
            " lexgrog\t\t\t      view\n",
            " libgcrypt-config\t\t      vim\n",
            " libnetcfg\t\t\t      vim.basic\n",
            " libpng-config\t\t\t      vim.tiny\n",
            " libpng16-config\t\t      vimdiff\n",
            " libtoolize\t\t\t      vimtutor\n",
            " link\t\t\t\t      vipe\n",
            " linux32\t\t\t      vmstat\n",
            " linux64\t\t\t      w\n",
            " llc\t\t\t\t      w.procps\n",
            " llc-10\t\t\t\t      wall\n",
            " lldb\t\t\t\t      watch\n",
            " lldb-10\t\t\t      watchgnupg\n",
            " lldb-argdumper\t\t\t      wc\n",
            " lldb-argdumper-10\t\t      wdctl\n",
            " lldb-instr-10\t\t\t      wget\n",
            " lldb-mi\t\t\t      whatis\n",
            " lldb-server\t\t\t      whereis\n",
            " lldb-server-10\t\t\t      which\n",
            " lldb-vscode-10\t\t\t      who\n",
            " lli\t\t\t\t      whoami\n",
            " lli-10\t\t\t\t      wish\n",
            " lli-child-target-10\t\t      wish8.6\n",
            " llvm-PerfectShuffle\t\t      write\n",
            " llvm-PerfectShuffle-10\t\t      www-browser\n",
            " llvm-addr2line-10\t\t      x86_64\n",
            " llvm-ar\t\t\t      x86_64-linux-gnu-addr2line\n",
            " llvm-ar-10\t\t\t      x86_64-linux-gnu-ar\n",
            " llvm-as\t\t\t      x86_64-linux-gnu-as\n",
            " llvm-as-10\t\t\t      x86_64-linux-gnu-c++filt\n",
            " llvm-bcanalyzer\t\t      x86_64-linux-gnu-cpp\n",
            " llvm-bcanalyzer-10\t\t      x86_64-linux-gnu-cpp-9\n",
            " llvm-c-test\t\t\t      x86_64-linux-gnu-dwp\n",
            " llvm-c-test-10\t\t\t      x86_64-linux-gnu-elfedit\n",
            " llvm-cat\t\t\t      x86_64-linux-gnu-g++\n",
            " llvm-cat-10\t\t\t      x86_64-linux-gnu-g++-9\n",
            " llvm-cfi-verify\t\t      x86_64-linux-gnu-gcc\n",
            " llvm-cfi-verify-10\t\t      x86_64-linux-gnu-gcc-9\n",
            " llvm-config\t\t\t      x86_64-linux-gnu-gcc-ar\n",
            " llvm-config-10\t\t\t      x86_64-linux-gnu-gcc-ar-9\n",
            " llvm-cov\t\t\t      x86_64-linux-gnu-gcc-nm\n",
            " llvm-cov-10\t\t\t      x86_64-linux-gnu-gcc-nm-9\n",
            " llvm-cvtres\t\t\t      x86_64-linux-gnu-gcc-ranlib\n",
            " llvm-cvtres-10\t\t\t      x86_64-linux-gnu-gcc-ranlib-9\n",
            " llvm-cxxdump\t\t\t      x86_64-linux-gnu-gcov\n",
            " llvm-cxxdump-10\t\t      x86_64-linux-gnu-gcov-9\n",
            " llvm-cxxfilt\t\t\t      x86_64-linux-gnu-gcov-dump\n",
            " llvm-cxxfilt-10\t\t      x86_64-linux-gnu-gcov-dump-9\n",
            " llvm-cxxmap-10\t\t\t      x86_64-linux-gnu-gcov-tool\n",
            " llvm-diff\t\t\t      x86_64-linux-gnu-gcov-tool-9\n",
            " llvm-diff-10\t\t\t      x86_64-linux-gnu-gold\n",
            " llvm-dis\t\t\t      x86_64-linux-gnu-gprof\n",
            " llvm-dis-10\t\t\t      x86_64-linux-gnu-ld\n",
            " llvm-dlltool\t\t\t      x86_64-linux-gnu-ld.bfd\n",
            " llvm-dlltool-10\t\t      x86_64-linux-gnu-ld.gold\n",
            " llvm-dwarfdump\t\t\t      x86_64-linux-gnu-nm\n",
            " llvm-dwarfdump-10\t\t      x86_64-linux-gnu-objcopy\n",
            " llvm-dwp\t\t\t      x86_64-linux-gnu-objdump\n",
            " llvm-dwp-10\t\t\t      x86_64-linux-gnu-pkg-config\n",
            " llvm-elfabi-10\t\t\t      x86_64-linux-gnu-python3-config\n",
            " llvm-exegesis\t\t\t      x86_64-linux-gnu-python3.8-config\n",
            " llvm-exegesis-10\t\t      x86_64-linux-gnu-ranlib\n",
            " llvm-extract\t\t\t      x86_64-linux-gnu-readelf\n",
            " llvm-extract-10\t\t      x86_64-linux-gnu-size\n",
            " llvm-ifs-10\t\t\t      x86_64-linux-gnu-strings\n",
            " llvm-install-name-tool-10\t      x86_64-linux-gnu-strip\n",
            " llvm-jitlink-10\t\t      x86_64-pc-linux-gnu-pkg-config\n",
            " llvm-lib\t\t\t      xargs\n",
            " llvm-lib-10\t\t\t      xgettext\n",
            " llvm-link\t\t\t      xml2-config\n",
            " llvm-link-10\t\t\t      xmlsec1-config\n",
            " llvm-lipo-10\t\t\t      xsel\n",
            " llvm-lto\t\t\t      xslt-config\n",
            " llvm-lto-10\t\t\t      xsubpp\n",
            " llvm-lto2\t\t\t      xtail\n",
            " llvm-lto2-10\t\t\t      xxd\n",
            " llvm-mc\t\t\t      xz\n",
            " llvm-mc-10\t\t\t      xzcat\n",
            " llvm-mca\t\t\t      xzcmp\n",
            " llvm-mca-10\t\t\t      xzdiff\n",
            " llvm-modextract\t\t      xzegrep\n",
            " llvm-modextract-10\t\t      xzfgrep\n",
            " llvm-mt\t\t\t      xzgrep\n",
            " llvm-mt-10\t\t\t      xzless\n",
            " llvm-nm\t\t\t      xzmore\n",
            " llvm-nm-10\t\t\t      yacc\n",
            " llvm-objcopy\t\t\t      yaml-bench-10\n",
            " llvm-objcopy-10\t\t      yaml2obj\n",
            " llvm-objdump\t\t\t      yaml2obj-10\n",
            " llvm-objdump-10\t\t      yarn\n",
            " llvm-opt-report\t\t      yarnpkg\n",
            " llvm-opt-report-10\t\t      yes\n",
            " llvm-pdbutil\t\t\t      ypdomainname\n",
            " llvm-pdbutil-10\t\t      zcat\n",
            " llvm-profdata\t\t\t      zcmp\n",
            " llvm-profdata-10\t\t      zdiff\n",
            " llvm-ranlib\t\t\t      zdump\n",
            " llvm-ranlib-10\t\t\t      zegrep\n",
            " llvm-rc\t\t\t      zfgrep\n",
            " llvm-rc-10\t\t\t      zforce\n",
            " llvm-readelf\t\t\t      zgrep\n",
            " llvm-readelf-10\t\t      zip\n",
            " llvm-readobj\t\t\t      zipcloak\n",
            " llvm-readobj-10\t\t      zipdetails\n",
            " llvm-reduce-10\t\t\t      zipgrep\n",
            " llvm-rtdyld\t\t\t      zipinfo\n",
            " llvm-rtdyld-10\t\t\t      zipnote\n",
            " llvm-size\t\t\t      zipsplit\n",
            " llvm-size-10\t\t\t      zless\n",
            " llvm-split\t\t\t      zmore\n",
            " llvm-split-10\t\t\t      znew\n",
            " llvm-stress\t\t\t      zrun\n",
            " llvm-stress-10\t\t\t      zsh\n",
            " llvm-strings\t\t\t      zsh5\n"
          ]
        }
      ],
      "source": [
        "!ls /bin"
      ]
    },
    {
      "cell_type": "markdown",
      "metadata": {
        "id": "y8Da6JWKQSHh"
      },
      "source": [
        "That `!ls` probably generated a large output. You can select the cell and clear the output by either:\n",
        "\n",
        "1. Clicking on the clear output button (x) in the toolbar above the cell; or\n",
        "2. Right clicking the left gutter of the output area and selecting \"Clear output\" from the context menu.\n",
        "\n",
        "Execute any other process using `!` with string interpolation from python variables, and note the result can be assigned to a variable:"
      ]
    },
    {
      "cell_type": "code",
      "execution_count": 4,
      "metadata": {
        "cellView": "both",
        "id": "zqGrv0blQSHj",
        "outputId": "584f105e-52a5-475e-dded-00caddc8fce8"
      },
      "outputs": [
        {
          "data": {
            "text/plain": [
              "['Colaboratory is great!',\n",
              " 'Colaboratory is great!',\n",
              " 'Colaboratory is great!',\n",
              " 'Colaboratory is great!']"
            ]
          },
          "execution_count": 4,
          "metadata": {},
          "output_type": "execute_result"
        }
      ],
      "source": [
        "# In https://github.com/ipython/ipython/pull/10545, single quote strings are ignored\n",
        "message = 'Colaboratory is great!'\n",
        "foo = !unset message && echo -e '{message}\\n{message}\\n'$message\"\\n$message\"\n",
        "foo"
      ]
    },
    {
      "cell_type": "markdown",
      "metadata": {
        "id": "qM4myQGfQboQ"
      },
      "source": [
        "## Magics\n",
        "Colaboratory shares the notion of magics from Jupyter. There are shorthand annotations that change how a cell's text is executed. To learn more, see [Jupyter's magics page](http://nbviewer.jupyter.org/github/ipython/ipython/blob/1.x/examples/notebooks/Cell%20Magics.ipynb).\n"
      ]
    },
    {
      "cell_type": "code",
      "execution_count": 5,
      "metadata": {
        "cellView": "both",
        "colab": {
          "height": 38
        },
        "id": "odfM-_GxWbCy",
        "outputId": "3f059816-dc25-4670-ca46-e2ee50a9490e"
      },
      "outputs": [
        {
          "data": {
            "text/html": [
              "<marquee style='width: 30%; color: blue;'><b>Whee!</b></marquee>\n"
            ],
            "text/plain": [
              "<IPython.core.display.HTML object>"
            ]
          },
          "metadata": {},
          "output_type": "display_data"
        }
      ],
      "source": [
        "%%html\n",
        "<marquee style='width: 30%; color: blue;'><b>Whee!</b></marquee>"
      ]
    },
    {
      "cell_type": "code",
      "execution_count": 6,
      "metadata": {
        "colab": {
          "height": 221
        },
        "id": "_YrTcK7k22Fp",
        "outputId": "bb3a69dd-49b7-4a6c-966a-64f77007a525"
      },
      "outputs": [
        {
          "data": {
            "text/html": [
              "<svg xmlns=\"http://www.w3.org/2000/svg\" viewBox=\"0 0 450 400\" width=\"200\" height=\"200\">\n",
              "  <rect x=\"80\" y=\"60\" width=\"250\" height=\"250\" rx=\"20\" style=\"fill:red; stroke:black; fill-opacity:0.7\" />\n",
              "  <rect x=\"180\" y=\"110\" width=\"250\" height=\"250\" rx=\"40\" style=\"fill:blue; stroke:black; fill-opacity:0.5;\" />\n",
              "</svg>\n"
            ],
            "text/plain": [
              "<IPython.core.display.HTML object>"
            ]
          },
          "metadata": {},
          "output_type": "display_data"
        }
      ],
      "source": [
        "%%html\n",
        "<svg xmlns=\"http://www.w3.org/2000/svg\" viewBox=\"0 0 450 400\" width=\"200\" height=\"200\">\n",
        "  <rect x=\"80\" y=\"60\" width=\"250\" height=\"250\" rx=\"20\" style=\"fill:red; stroke:black; fill-opacity:0.7\" />\n",
        "  <rect x=\"180\" y=\"110\" width=\"250\" height=\"250\" rx=\"40\" style=\"fill:blue; stroke:black; fill-opacity:0.5;\" />\n",
        "</svg>"
      ]
    },
    {
      "cell_type": "markdown",
      "metadata": {
        "id": "d4L9TOP9QSHn"
      },
      "source": [
        "## Automatic completions and exploring code\n",
        "\n",
        "Colab provides automatic completions to explore attributes of Python objects, as well as to quickly view documentation strings. As an example, first run the following cell to import the  [`numpy`](http://www.numpy.org) module."
      ]
    },
    {
      "cell_type": "code",
      "execution_count": 7,
      "metadata": {
        "cellView": "both",
        "id": "Q0JKWcmtQSHp"
      },
      "outputs": [],
      "source": [
        "import numpy as np"
      ]
    },
    {
      "cell_type": "markdown",
      "metadata": {
        "id": "1M890-bXeyYp"
      },
      "source": [
        "If you now insert your cursor after `np` and press **Period**(`.`), you will see the list of available completions within the `np` module. Completions can be opened again by using **Ctrl+Space**."
      ]
    },
    {
      "cell_type": "code",
      "execution_count": 8,
      "metadata": {
        "cellView": "both",
        "id": "j6QRIfUHQSHq"
      },
      "outputs": [
        {
          "data": {
            "text/plain": [
              "<module 'numpy' from '/home/codespace/.local/lib/python3.12/site-packages/numpy/__init__.py'>"
            ]
          },
          "execution_count": 8,
          "metadata": {},
          "output_type": "execute_result"
        }
      ],
      "source": [
        "np"
      ]
    },
    {
      "cell_type": "markdown",
      "metadata": {
        "id": "g6MfomFhQSHs"
      },
      "source": [
        "If you type an open parenthesis after any function or class in the module, you will see a pop-up of its documentation string:"
      ]
    },
    {
      "cell_type": "code",
      "execution_count": 9,
      "metadata": {
        "cellView": "both",
        "id": "SD0XnrVhQSHt"
      },
      "outputs": [
        {
          "data": {
            "text/plain": [
              "numpy.ndarray"
            ]
          },
          "execution_count": 9,
          "metadata": {},
          "output_type": "execute_result"
        }
      ],
      "source": [
        "np.ndarray"
      ]
    },
    {
      "cell_type": "markdown",
      "metadata": {
        "id": "GVIVDgdaRjPQ"
      },
      "source": [
        "The documentation can be opened again using **Ctrl+Shift+Space** or you can view the documentation for method by mouse hovering over the method name.\n",
        "\n",
        "When hovering over the method name the `Open in tab` link will open the documentation in a persistent pane. The `View source` link will navigate to the source code for the method."
      ]
    },
    {
      "cell_type": "markdown",
      "metadata": {
        "id": "TYTBdJXxfqiJ"
      },
      "source": [
        "## Exception Formatting"
      ]
    },
    {
      "cell_type": "markdown",
      "metadata": {
        "id": "4bqAVK-aQSHx"
      },
      "source": [
        "Exceptions are formatted nicely in Colab outputs:"
      ]
    },
    {
      "cell_type": "code",
      "execution_count": 10,
      "metadata": {
        "cellView": "both",
        "id": "CrJf1PEmQSHx",
        "outputId": "a8c7a413-a1e6-49f1-c7b5-58986eff5047"
      },
      "outputs": [
        {
          "ename": "ZeroDivisionError",
          "evalue": "division by zero",
          "output_type": "error",
          "traceback": [
            "\u001b[0;31m---------------------------------------------------------------------------\u001b[0m",
            "\u001b[0;31mZeroDivisionError\u001b[0m                         Traceback (most recent call last)",
            "Cell \u001b[0;32mIn[10], line 3\u001b[0m\n\u001b[1;32m      1\u001b[0m x \u001b[38;5;241m=\u001b[39m \u001b[38;5;241m1\u001b[39m\n\u001b[1;32m      2\u001b[0m y \u001b[38;5;241m=\u001b[39m \u001b[38;5;241m4\u001b[39m\n\u001b[0;32m----> 3\u001b[0m z \u001b[38;5;241m=\u001b[39m \u001b[43my\u001b[49m\u001b[38;5;241;43m/\u001b[39;49m\u001b[43m(\u001b[49m\u001b[38;5;241;43m1\u001b[39;49m\u001b[38;5;241;43m-\u001b[39;49m\u001b[43mx\u001b[49m\u001b[43m)\u001b[49m\n",
            "\u001b[0;31mZeroDivisionError\u001b[0m: division by zero"
          ]
        }
      ],
      "source": [
        "x = 1\n",
        "y = 4\n",
        "z = y/(1-x)"
      ]
    },
    {
      "cell_type": "markdown",
      "metadata": {
        "id": "7cRnhv_7N4Pa"
      },
      "source": [
        "## Rich, interactive outputs\n",
        "Until now all of the generated outputs have been text, but they can be more interesting, like the chart below."
      ]
    },
    {
      "cell_type": "code",
      "execution_count": 11,
      "metadata": {
        "colab": {
          "height": 371
        },
        "id": "JVXnTqyE9RET",
        "outputId": "a20709c6-9773-49e9-bc49-1e8468ea990b"
      },
      "outputs": [
        {
          "data": {
            "image/png": "[encoded data removed]",
            "text/plain": [
              "<Figure size 640x480 with 1 Axes>"
            ]
          },
          "metadata": {},
          "output_type": "display_data"
        }
      ],
      "source": [
        "import numpy as np\n",
        "from matplotlib import pyplot as plt\n",
        "\n",
        "ys = 200 + np.random.randn(100)\n",
        "x = [x for x in range(len(ys))]\n",
        "\n",
        "plt.plot(x, ys, '-')\n",
        "plt.fill_between(x, ys, 195, where=(ys > 195), facecolor='g', alpha=0.6)\n",
        "\n",
        "plt.title(\"Fills and Alpha Example\")\n",
        "plt.show()"
      ]
    },
    {
      "cell_type": "markdown",
      "metadata": {
        "id": "aro-UJgUQSH1"
      },
      "source": [
        "# Integration with Drive\n",
        "\n",
        "Colaboratory is integrated with Google Drive. It allows you to share, comment, and collaborate on the same document with multiple people:\n",
        "\n",
        "* The **SHARE** button (top-right of the toolbar) allows you to share the notebook and control permissions set on it.\n",
        "\n",
        "* **File->Make a Copy** creates a copy of the notebook in Drive.\n",
        "\n",
        "* **File->Save** saves the File to Drive. **File->Save and checkpoint** pins the version so it doesn't get deleted from the revision history.\n",
        "\n",
        "* **File->Revision history** shows the notebook's revision history."
      ]
    },
    {
      "cell_type": "markdown",
      "metadata": {
        "id": "4hfV37gxpP_c"
      },
      "source": [
        "## Commenting on a cell\n",
        "You can comment on a Colaboratory notebook like you would on a Google Document. Comments are attached to cells, and are displayed next to the cell they refer to. If you have **comment-only** permissions, you will see a comment button on the top right of the cell when you hover over it.\n",
        "\n",
        "If you have edit or comment permissions you can comment on a cell in one of three ways:\n",
        "\n",
        "1. Select a cell and click the comment button in the toolbar above the top-right corner of the cell.\n",
        "1. Right click a text cell and select **Add a comment** from the context menu.\n",
        "3. Use the shortcut **Ctrl+Shift+M** to add a comment to the currently selected cell.\n",
        "\n",
        "You can resolve and reply to comments, and you can target comments to specific collaborators by typing *+[email address]* (e.g., `+user@domain.com`). Addressed collaborators will be emailed.\n",
        "\n",
        "The Comment button in the top-right corner of the page shows all comments attached to the notebook."
      ]
    }
  ],
  "metadata": {
    "colab": {
      "include_colab_link": true,
      "name": "Overview of Colaboratory Features",
      "provenance": [],
      "toc_visible": true
    },
    "kernelspec": {
      "display_name": "Python 3",
      "name": "python3"
    },
    "language_info": {
      "codemirror_mode": {
        "name": "ipython",
        "version": 3
      },
      "file_extension": ".py",
      "mimetype": "text/x-python",
      "name": "python",
      "nbconvert_exporter": "python",
      "pygments_lexer": "ipython3",
      "version": "3.12.1"
    }
  },
  "nbformat": 4,
  "nbformat_minor": 0
}
